{
 "cells": [
  {
   "cell_type": "markdown",
   "id": "9eaed17d-acfb-41b3-9dcf-3cdc432b55f1",
   "metadata": {},
   "source": [
    "# Spherical U-Net Neural Network Example\n",
    "\n",
    "This example is designed to demonstrate how **FOSCAT** can be used to define a U-Net architecture.\n",
    "\n",
    "Key aspects illustrated in this example:\n",
    "\n",
    "- **Handling of local values**:  \n",
    "  FOSCAT manages values defined in very **irregular domains**, such as regions near coastlines.  \n",
    "  On purpose, the dataset is not perfectly reprojected on the HEALPix grid, meaning that many pixels are undefined even in the middle of the domain.\n",
    "\n",
    "- **Cell-based convolutions**:  \n",
    "  By using the `cell_ids` definition, FOSCAT makes it possible to perform successive convolutions across different levels.  \n",
    "  The first cells and plots show how the U-Net is internally defined inside FOSCAT.\n",
    "\n",
    "- **Training on a single image**:  \n",
    "  At the end of this notebook, FOSCAT is used to learn information from **one image only**.  \n",
    "  This is mainly a demonstration of the mechanism:\n",
    "  - the training is too small,  \n",
    "  - the parameters are largely overfitted,  \n",
    "  - the goal is *not* to advertise the ability of this U-Net to model reality.  \n",
    "\n",
    "Instead, the focus is on showing how the approach works and how it can be adapted to larger training datasets."
   ]
  },
  {
   "cell_type": "code",
   "execution_count": 1,
   "id": "45854f21-7d28-4cd2-9eca-ff4cc706a776",
   "metadata": {},
   "outputs": [],
   "source": [
    "import numpy as np\n",
    "import foscat.scat_cov as sc\n",
    "import matplotlib.pyplot as plt\n",
    "import sys\n",
    "import healpy as hp\n",
    "import xarray as xr"
   ]
  },
  {
   "cell_type": "code",
   "execution_count": 2,
   "id": "b5a9059c-91ad-4421-8915-f617f49e3a6f",
   "metadata": {},
   "outputs": [
    {
     "ename": "GroupNotFoundError",
     "evalue": "No group found in store '/home/jovyan/NEWDEMO/demo-foscat-pangeo-eosc/data/test.zarr' at path ''",
     "output_type": "error",
     "traceback": [
      "\u001b[31m---------------------------------------------------------------------------\u001b[39m",
      "\u001b[31mGroupNotFoundError\u001b[39m                        Traceback (most recent call last)",
      "\u001b[36mFile \u001b[39m\u001b[32m/srv/conda/envs/notebook/lib/python3.12/site-packages/xarray/backends/zarr.py:1795\u001b[39m, in \u001b[36m_get_open_params\u001b[39m\u001b[34m(store, mode, synchronizer, group, consolidated, consolidate_on_close, chunk_store, storage_options, zarr_version, use_zarr_fill_value_as_mask, zarr_format)\u001b[39m\n\u001b[32m   1794\u001b[39m \u001b[38;5;28;01mtry\u001b[39;00m:\n\u001b[32m-> \u001b[39m\u001b[32m1795\u001b[39m     zarr_root_group = \u001b[43mzarr\u001b[49m\u001b[43m.\u001b[49m\u001b[43mopen_consolidated\u001b[49m\u001b[43m(\u001b[49m\u001b[43mstore\u001b[49m\u001b[43m,\u001b[49m\u001b[43m \u001b[49m\u001b[43m*\u001b[49m\u001b[43m*\u001b[49m\u001b[43mopen_kwargs\u001b[49m\u001b[43m)\u001b[49m\n\u001b[32m   1796\u001b[39m \u001b[38;5;28;01mexcept\u001b[39;00m (\u001b[38;5;167;01mValueError\u001b[39;00m, \u001b[38;5;167;01mKeyError\u001b[39;00m):\n\u001b[32m   1797\u001b[39m     \u001b[38;5;66;03m# ValueError in zarr-python 3.x, KeyError in 2.x.\u001b[39;00m\n",
      "\u001b[36mFile \u001b[39m\u001b[32m/srv/conda/envs/notebook/lib/python3.12/site-packages/zarr/api/synchronous.py:222\u001b[39m, in \u001b[36mopen_consolidated\u001b[39m\u001b[34m(use_consolidated, *args, **kwargs)\u001b[39m\n\u001b[32m    218\u001b[39m \u001b[38;5;250m\u001b[39m\u001b[33;03m\"\"\"\u001b[39;00m\n\u001b[32m    219\u001b[39m \u001b[33;03mAlias for :func:`open_group` with ``use_consolidated=True``.\u001b[39;00m\n\u001b[32m    220\u001b[39m \u001b[33;03m\"\"\"\u001b[39;00m\n\u001b[32m    221\u001b[39m \u001b[38;5;28;01mreturn\u001b[39;00m Group(\n\u001b[32m--> \u001b[39m\u001b[32m222\u001b[39m     \u001b[43msync\u001b[49m\u001b[43m(\u001b[49m\u001b[43masync_api\u001b[49m\u001b[43m.\u001b[49m\u001b[43mopen_consolidated\u001b[49m\u001b[43m(\u001b[49m\u001b[43m*\u001b[49m\u001b[43margs\u001b[49m\u001b[43m,\u001b[49m\u001b[43m \u001b[49m\u001b[43muse_consolidated\u001b[49m\u001b[43m=\u001b[49m\u001b[43muse_consolidated\u001b[49m\u001b[43m,\u001b[49m\u001b[43m \u001b[49m\u001b[43m*\u001b[49m\u001b[43m*\u001b[49m\u001b[43mkwargs\u001b[49m\u001b[43m)\u001b[49m\u001b[43m)\u001b[49m\n\u001b[32m    223\u001b[39m )\n",
      "\u001b[36mFile \u001b[39m\u001b[32m/srv/conda/envs/notebook/lib/python3.12/site-packages/zarr/core/sync.py:163\u001b[39m, in \u001b[36msync\u001b[39m\u001b[34m(coro, loop, timeout)\u001b[39m\n\u001b[32m    162\u001b[39m \u001b[38;5;28;01mif\u001b[39;00m \u001b[38;5;28misinstance\u001b[39m(return_result, \u001b[38;5;167;01mBaseException\u001b[39;00m):\n\u001b[32m--> \u001b[39m\u001b[32m163\u001b[39m     \u001b[38;5;28;01mraise\u001b[39;00m return_result\n\u001b[32m    164\u001b[39m \u001b[38;5;28;01melse\u001b[39;00m:\n",
      "\u001b[36mFile \u001b[39m\u001b[32m/srv/conda/envs/notebook/lib/python3.12/site-packages/zarr/core/sync.py:119\u001b[39m, in \u001b[36m_runner\u001b[39m\u001b[34m(coro)\u001b[39m\n\u001b[32m    118\u001b[39m \u001b[38;5;28;01mtry\u001b[39;00m:\n\u001b[32m--> \u001b[39m\u001b[32m119\u001b[39m     \u001b[38;5;28;01mreturn\u001b[39;00m \u001b[38;5;28;01mawait\u001b[39;00m coro\n\u001b[32m    120\u001b[39m \u001b[38;5;28;01mexcept\u001b[39;00m \u001b[38;5;167;01mException\u001b[39;00m \u001b[38;5;28;01mas\u001b[39;00m ex:\n",
      "\u001b[36mFile \u001b[39m\u001b[32m/srv/conda/envs/notebook/lib/python3.12/site-packages/zarr/api/asynchronous.py:381\u001b[39m, in \u001b[36mopen_consolidated\u001b[39m\u001b[34m(use_consolidated, *args, **kwargs)\u001b[39m\n\u001b[32m    377\u001b[39m     \u001b[38;5;28;01mraise\u001b[39;00m \u001b[38;5;167;01mTypeError\u001b[39;00m(\n\u001b[32m    378\u001b[39m         \u001b[33m\"\u001b[39m\u001b[33m'\u001b[39m\u001b[33muse_consolidated\u001b[39m\u001b[33m'\u001b[39m\u001b[33m must be \u001b[39m\u001b[33m'\u001b[39m\u001b[33mTrue\u001b[39m\u001b[33m'\u001b[39m\u001b[33m in \u001b[39m\u001b[33m'\u001b[39m\u001b[33mopen_consolidated\u001b[39m\u001b[33m'\u001b[39m\u001b[33m. Use \u001b[39m\u001b[33m'\u001b[39m\u001b[33mopen\u001b[39m\u001b[33m'\u001b[39m\u001b[33m with \u001b[39m\u001b[33m\"\u001b[39m\n\u001b[32m    379\u001b[39m         \u001b[33m\"\u001b[39m\u001b[33m'\u001b[39m\u001b[33muse_consolidated=False\u001b[39m\u001b[33m'\u001b[39m\u001b[33m to bypass consolidated metadata.\u001b[39m\u001b[33m\"\u001b[39m\n\u001b[32m    380\u001b[39m     )\n\u001b[32m--> \u001b[39m\u001b[32m381\u001b[39m \u001b[38;5;28;01mreturn\u001b[39;00m \u001b[38;5;28;01mawait\u001b[39;00m open_group(*args, use_consolidated=use_consolidated, **kwargs)\n",
      "\u001b[36mFile \u001b[39m\u001b[32m/srv/conda/envs/notebook/lib/python3.12/site-packages/zarr/api/asynchronous.py:858\u001b[39m, in \u001b[36mopen_group\u001b[39m\u001b[34m(store, mode, cache_attrs, synchronizer, path, chunk_store, storage_options, zarr_version, zarr_format, meta_array, attributes, use_consolidated)\u001b[39m\n\u001b[32m    852\u001b[39m     \u001b[38;5;28;01mreturn\u001b[39;00m \u001b[38;5;28;01mawait\u001b[39;00m AsyncGroup.from_store(\n\u001b[32m    853\u001b[39m         store_path,\n\u001b[32m    854\u001b[39m         zarr_format=_zarr_format,\n\u001b[32m    855\u001b[39m         overwrite=overwrite,\n\u001b[32m    856\u001b[39m         attributes=attributes,\n\u001b[32m    857\u001b[39m     )\n\u001b[32m--> \u001b[39m\u001b[32m858\u001b[39m \u001b[38;5;28;01mraise\u001b[39;00m GroupNotFoundError(store, store_path.path)\n",
      "\u001b[31mGroupNotFoundError\u001b[39m: No group found in store '/home/jovyan/NEWDEMO/demo-foscat-pangeo-eosc/data/test.zarr' at path ''",
      "\nDuring handling of the above exception, another exception occurred:\n",
      "\u001b[31mGroupNotFoundError\u001b[39m                        Traceback (most recent call last)",
      "\u001b[36mCell\u001b[39m\u001b[36m \u001b[39m\u001b[32mIn[2]\u001b[39m\u001b[32m, line 1\u001b[39m\n\u001b[32m----> \u001b[39m\u001b[32m1\u001b[39m dtotal=\u001b[43mxr\u001b[49m\u001b[43m.\u001b[49m\u001b[43mopen_zarr\u001b[49m\u001b[43m(\u001b[49m\u001b[33;43m'\u001b[39;49m\u001b[33;43mdata/test.zarr\u001b[39;49m\u001b[33;43m'\u001b[39;49m\u001b[43m)\u001b[49m\n\u001b[32m      2\u001b[39m \u001b[38;5;66;03m#dtotal=xr.open_zarr(\"https://data-fair2adapt.ifremer.fr/odysea/odysea.zarr\").pipe(xdggs.decode)\u001b[39;00m\n\u001b[32m      3\u001b[39m dtotal\n",
      "\u001b[36mFile \u001b[39m\u001b[32m/srv/conda/envs/notebook/lib/python3.12/site-packages/xarray/backends/zarr.py:1513\u001b[39m, in \u001b[36mopen_zarr\u001b[39m\u001b[34m(store, group, synchronizer, chunks, decode_cf, mask_and_scale, decode_times, concat_characters, decode_coords, drop_variables, consolidated, overwrite_encoded_chunks, chunk_store, storage_options, decode_timedelta, use_cftime, zarr_version, zarr_format, use_zarr_fill_value_as_mask, chunked_array_type, from_array_kwargs, create_default_indexes, **kwargs)\u001b[39m\n\u001b[32m   1499\u001b[39m     \u001b[38;5;28;01mraise\u001b[39;00m \u001b[38;5;167;01mTypeError\u001b[39;00m(\n\u001b[32m   1500\u001b[39m         \u001b[33m\"\u001b[39m\u001b[33mopen_zarr() got unexpected keyword arguments \u001b[39m\u001b[33m\"\u001b[39m + \u001b[33m\"\u001b[39m\u001b[33m,\u001b[39m\u001b[33m\"\u001b[39m.join(kwargs.keys())\n\u001b[32m   1501\u001b[39m     )\n\u001b[32m   1503\u001b[39m backend_kwargs = {\n\u001b[32m   1504\u001b[39m     \u001b[33m\"\u001b[39m\u001b[33msynchronizer\u001b[39m\u001b[33m\"\u001b[39m: synchronizer,\n\u001b[32m   1505\u001b[39m     \u001b[33m\"\u001b[39m\u001b[33mconsolidated\u001b[39m\u001b[33m\"\u001b[39m: consolidated,\n\u001b[32m   (...)\u001b[39m\u001b[32m   1510\u001b[39m     \u001b[33m\"\u001b[39m\u001b[33mzarr_format\u001b[39m\u001b[33m\"\u001b[39m: zarr_format,\n\u001b[32m   1511\u001b[39m }\n\u001b[32m-> \u001b[39m\u001b[32m1513\u001b[39m ds = \u001b[43mopen_dataset\u001b[49m\u001b[43m(\u001b[49m\n\u001b[32m   1514\u001b[39m \u001b[43m    \u001b[49m\u001b[43mfilename_or_obj\u001b[49m\u001b[43m=\u001b[49m\u001b[43mstore\u001b[49m\u001b[43m,\u001b[49m\n\u001b[32m   1515\u001b[39m \u001b[43m    \u001b[49m\u001b[43mgroup\u001b[49m\u001b[43m=\u001b[49m\u001b[43mgroup\u001b[49m\u001b[43m,\u001b[49m\n\u001b[32m   1516\u001b[39m \u001b[43m    \u001b[49m\u001b[43mdecode_cf\u001b[49m\u001b[43m=\u001b[49m\u001b[43mdecode_cf\u001b[49m\u001b[43m,\u001b[49m\n\u001b[32m   1517\u001b[39m \u001b[43m    \u001b[49m\u001b[43mmask_and_scale\u001b[49m\u001b[43m=\u001b[49m\u001b[43mmask_and_scale\u001b[49m\u001b[43m,\u001b[49m\n\u001b[32m   1518\u001b[39m \u001b[43m    \u001b[49m\u001b[43mdecode_times\u001b[49m\u001b[43m=\u001b[49m\u001b[43mdecode_times\u001b[49m\u001b[43m,\u001b[49m\n\u001b[32m   1519\u001b[39m \u001b[43m    \u001b[49m\u001b[43mconcat_characters\u001b[49m\u001b[43m=\u001b[49m\u001b[43mconcat_characters\u001b[49m\u001b[43m,\u001b[49m\n\u001b[32m   1520\u001b[39m \u001b[43m    \u001b[49m\u001b[43mdecode_coords\u001b[49m\u001b[43m=\u001b[49m\u001b[43mdecode_coords\u001b[49m\u001b[43m,\u001b[49m\n\u001b[32m   1521\u001b[39m \u001b[43m    \u001b[49m\u001b[43mengine\u001b[49m\u001b[43m=\u001b[49m\u001b[33;43m\"\u001b[39;49m\u001b[33;43mzarr\u001b[39;49m\u001b[33;43m\"\u001b[39;49m\u001b[43m,\u001b[49m\n\u001b[32m   1522\u001b[39m \u001b[43m    \u001b[49m\u001b[43mchunks\u001b[49m\u001b[43m=\u001b[49m\u001b[43mchunks\u001b[49m\u001b[43m,\u001b[49m\n\u001b[32m   1523\u001b[39m \u001b[43m    \u001b[49m\u001b[43mdrop_variables\u001b[49m\u001b[43m=\u001b[49m\u001b[43mdrop_variables\u001b[49m\u001b[43m,\u001b[49m\n\u001b[32m   1524\u001b[39m \u001b[43m    \u001b[49m\u001b[43mcreate_default_indexes\u001b[49m\u001b[43m=\u001b[49m\u001b[43mcreate_default_indexes\u001b[49m\u001b[43m,\u001b[49m\n\u001b[32m   1525\u001b[39m \u001b[43m    \u001b[49m\u001b[43mchunked_array_type\u001b[49m\u001b[43m=\u001b[49m\u001b[43mchunked_array_type\u001b[49m\u001b[43m,\u001b[49m\n\u001b[32m   1526\u001b[39m \u001b[43m    \u001b[49m\u001b[43mfrom_array_kwargs\u001b[49m\u001b[43m=\u001b[49m\u001b[43mfrom_array_kwargs\u001b[49m\u001b[43m,\u001b[49m\n\u001b[32m   1527\u001b[39m \u001b[43m    \u001b[49m\u001b[43mbackend_kwargs\u001b[49m\u001b[43m=\u001b[49m\u001b[43mbackend_kwargs\u001b[49m\u001b[43m,\u001b[49m\n\u001b[32m   1528\u001b[39m \u001b[43m    \u001b[49m\u001b[43mdecode_timedelta\u001b[49m\u001b[43m=\u001b[49m\u001b[43mdecode_timedelta\u001b[49m\u001b[43m,\u001b[49m\n\u001b[32m   1529\u001b[39m \u001b[43m    \u001b[49m\u001b[43muse_cftime\u001b[49m\u001b[43m=\u001b[49m\u001b[43muse_cftime\u001b[49m\u001b[43m,\u001b[49m\n\u001b[32m   1530\u001b[39m \u001b[43m    \u001b[49m\u001b[43mzarr_version\u001b[49m\u001b[43m=\u001b[49m\u001b[43mzarr_version\u001b[49m\u001b[43m,\u001b[49m\n\u001b[32m   1531\u001b[39m \u001b[43m    \u001b[49m\u001b[43muse_zarr_fill_value_as_mask\u001b[49m\u001b[43m=\u001b[49m\u001b[43muse_zarr_fill_value_as_mask\u001b[49m\u001b[43m,\u001b[49m\n\u001b[32m   1532\u001b[39m \u001b[43m\u001b[49m\u001b[43m)\u001b[49m\n\u001b[32m   1533\u001b[39m \u001b[38;5;28;01mreturn\u001b[39;00m ds\n",
      "\u001b[36mFile \u001b[39m\u001b[32m/srv/conda/envs/notebook/lib/python3.12/site-packages/xarray/backends/api.py:715\u001b[39m, in \u001b[36mopen_dataset\u001b[39m\u001b[34m(filename_or_obj, engine, chunks, cache, decode_cf, mask_and_scale, decode_times, decode_timedelta, use_cftime, concat_characters, decode_coords, drop_variables, create_default_indexes, inline_array, chunked_array_type, from_array_kwargs, backend_kwargs, **kwargs)\u001b[39m\n\u001b[32m    703\u001b[39m decoders = _resolve_decoders_kwargs(\n\u001b[32m    704\u001b[39m     decode_cf,\n\u001b[32m    705\u001b[39m     open_backend_dataset_parameters=backend.open_dataset_parameters,\n\u001b[32m   (...)\u001b[39m\u001b[32m    711\u001b[39m     decode_coords=decode_coords,\n\u001b[32m    712\u001b[39m )\n\u001b[32m    714\u001b[39m overwrite_encoded_chunks = kwargs.pop(\u001b[33m\"\u001b[39m\u001b[33moverwrite_encoded_chunks\u001b[39m\u001b[33m\"\u001b[39m, \u001b[38;5;28;01mNone\u001b[39;00m)\n\u001b[32m--> \u001b[39m\u001b[32m715\u001b[39m backend_ds = \u001b[43mbackend\u001b[49m\u001b[43m.\u001b[49m\u001b[43mopen_dataset\u001b[49m\u001b[43m(\u001b[49m\n\u001b[32m    716\u001b[39m \u001b[43m    \u001b[49m\u001b[43mfilename_or_obj\u001b[49m\u001b[43m,\u001b[49m\n\u001b[32m    717\u001b[39m \u001b[43m    \u001b[49m\u001b[43mdrop_variables\u001b[49m\u001b[43m=\u001b[49m\u001b[43mdrop_variables\u001b[49m\u001b[43m,\u001b[49m\n\u001b[32m    718\u001b[39m \u001b[43m    \u001b[49m\u001b[43m*\u001b[49m\u001b[43m*\u001b[49m\u001b[43mdecoders\u001b[49m\u001b[43m,\u001b[49m\n\u001b[32m    719\u001b[39m \u001b[43m    \u001b[49m\u001b[43m*\u001b[49m\u001b[43m*\u001b[49m\u001b[43mkwargs\u001b[49m\u001b[43m,\u001b[49m\n\u001b[32m    720\u001b[39m \u001b[43m\u001b[49m\u001b[43m)\u001b[49m\n\u001b[32m    721\u001b[39m ds = _dataset_from_backend_dataset(\n\u001b[32m    722\u001b[39m     backend_ds,\n\u001b[32m    723\u001b[39m     filename_or_obj,\n\u001b[32m   (...)\u001b[39m\u001b[32m    734\u001b[39m     **kwargs,\n\u001b[32m    735\u001b[39m )\n\u001b[32m    736\u001b[39m \u001b[38;5;28;01mreturn\u001b[39;00m ds\n",
      "\u001b[36mFile \u001b[39m\u001b[32m/srv/conda/envs/notebook/lib/python3.12/site-packages/xarray/backends/zarr.py:1587\u001b[39m, in \u001b[36mZarrBackendEntrypoint.open_dataset\u001b[39m\u001b[34m(self, filename_or_obj, mask_and_scale, decode_times, concat_characters, decode_coords, drop_variables, use_cftime, decode_timedelta, group, mode, synchronizer, consolidated, chunk_store, storage_options, zarr_version, zarr_format, store, engine, use_zarr_fill_value_as_mask, cache_members)\u001b[39m\n\u001b[32m   1585\u001b[39m filename_or_obj = _normalize_path(filename_or_obj)\n\u001b[32m   1586\u001b[39m \u001b[38;5;28;01mif\u001b[39;00m \u001b[38;5;129;01mnot\u001b[39;00m store:\n\u001b[32m-> \u001b[39m\u001b[32m1587\u001b[39m     store = \u001b[43mZarrStore\u001b[49m\u001b[43m.\u001b[49m\u001b[43mopen_group\u001b[49m\u001b[43m(\u001b[49m\n\u001b[32m   1588\u001b[39m \u001b[43m        \u001b[49m\u001b[43mfilename_or_obj\u001b[49m\u001b[43m,\u001b[49m\n\u001b[32m   1589\u001b[39m \u001b[43m        \u001b[49m\u001b[43mgroup\u001b[49m\u001b[43m=\u001b[49m\u001b[43mgroup\u001b[49m\u001b[43m,\u001b[49m\n\u001b[32m   1590\u001b[39m \u001b[43m        \u001b[49m\u001b[43mmode\u001b[49m\u001b[43m=\u001b[49m\u001b[43mmode\u001b[49m\u001b[43m,\u001b[49m\n\u001b[32m   1591\u001b[39m \u001b[43m        \u001b[49m\u001b[43msynchronizer\u001b[49m\u001b[43m=\u001b[49m\u001b[43msynchronizer\u001b[49m\u001b[43m,\u001b[49m\n\u001b[32m   1592\u001b[39m \u001b[43m        \u001b[49m\u001b[43mconsolidated\u001b[49m\u001b[43m=\u001b[49m\u001b[43mconsolidated\u001b[49m\u001b[43m,\u001b[49m\n\u001b[32m   1593\u001b[39m \u001b[43m        \u001b[49m\u001b[43mconsolidate_on_close\u001b[49m\u001b[43m=\u001b[49m\u001b[38;5;28;43;01mFalse\u001b[39;49;00m\u001b[43m,\u001b[49m\n\u001b[32m   1594\u001b[39m \u001b[43m        \u001b[49m\u001b[43mchunk_store\u001b[49m\u001b[43m=\u001b[49m\u001b[43mchunk_store\u001b[49m\u001b[43m,\u001b[49m\n\u001b[32m   1595\u001b[39m \u001b[43m        \u001b[49m\u001b[43mstorage_options\u001b[49m\u001b[43m=\u001b[49m\u001b[43mstorage_options\u001b[49m\u001b[43m,\u001b[49m\n\u001b[32m   1596\u001b[39m \u001b[43m        \u001b[49m\u001b[43mzarr_version\u001b[49m\u001b[43m=\u001b[49m\u001b[43mzarr_version\u001b[49m\u001b[43m,\u001b[49m\n\u001b[32m   1597\u001b[39m \u001b[43m        \u001b[49m\u001b[43muse_zarr_fill_value_as_mask\u001b[49m\u001b[43m=\u001b[49m\u001b[38;5;28;43;01mNone\u001b[39;49;00m\u001b[43m,\u001b[49m\n\u001b[32m   1598\u001b[39m \u001b[43m        \u001b[49m\u001b[43mzarr_format\u001b[49m\u001b[43m=\u001b[49m\u001b[43mzarr_format\u001b[49m\u001b[43m,\u001b[49m\n\u001b[32m   1599\u001b[39m \u001b[43m        \u001b[49m\u001b[43mcache_members\u001b[49m\u001b[43m=\u001b[49m\u001b[43mcache_members\u001b[49m\u001b[43m,\u001b[49m\n\u001b[32m   1600\u001b[39m \u001b[43m    \u001b[49m\u001b[43m)\u001b[49m\n\u001b[32m   1602\u001b[39m store_entrypoint = StoreBackendEntrypoint()\n\u001b[32m   1603\u001b[39m \u001b[38;5;28;01mwith\u001b[39;00m close_on_error(store):\n",
      "\u001b[36mFile \u001b[39m\u001b[32m/srv/conda/envs/notebook/lib/python3.12/site-packages/xarray/backends/zarr.py:664\u001b[39m, in \u001b[36mZarrStore.open_group\u001b[39m\u001b[34m(cls, store, mode, synchronizer, group, consolidated, consolidate_on_close, chunk_store, storage_options, append_dim, write_region, safe_chunks, align_chunks, zarr_version, zarr_format, use_zarr_fill_value_as_mask, write_empty, cache_members)\u001b[39m\n\u001b[32m    638\u001b[39m \u001b[38;5;129m@classmethod\u001b[39m\n\u001b[32m    639\u001b[39m \u001b[38;5;28;01mdef\u001b[39;00m\u001b[38;5;250m \u001b[39m\u001b[34mopen_group\u001b[39m(\n\u001b[32m    640\u001b[39m     \u001b[38;5;28mcls\u001b[39m,\n\u001b[32m   (...)\u001b[39m\u001b[32m    657\u001b[39m     cache_members: \u001b[38;5;28mbool\u001b[39m = \u001b[38;5;28;01mTrue\u001b[39;00m,\n\u001b[32m    658\u001b[39m ):\n\u001b[32m    659\u001b[39m     (\n\u001b[32m    660\u001b[39m         zarr_group,\n\u001b[32m    661\u001b[39m         consolidate_on_close,\n\u001b[32m    662\u001b[39m         close_store_on_close,\n\u001b[32m    663\u001b[39m         use_zarr_fill_value_as_mask,\n\u001b[32m--> \u001b[39m\u001b[32m664\u001b[39m     ) = \u001b[43m_get_open_params\u001b[49m\u001b[43m(\u001b[49m\n\u001b[32m    665\u001b[39m \u001b[43m        \u001b[49m\u001b[43mstore\u001b[49m\u001b[43m=\u001b[49m\u001b[43mstore\u001b[49m\u001b[43m,\u001b[49m\n\u001b[32m    666\u001b[39m \u001b[43m        \u001b[49m\u001b[43mmode\u001b[49m\u001b[43m=\u001b[49m\u001b[43mmode\u001b[49m\u001b[43m,\u001b[49m\n\u001b[32m    667\u001b[39m \u001b[43m        \u001b[49m\u001b[43msynchronizer\u001b[49m\u001b[43m=\u001b[49m\u001b[43msynchronizer\u001b[49m\u001b[43m,\u001b[49m\n\u001b[32m    668\u001b[39m \u001b[43m        \u001b[49m\u001b[43mgroup\u001b[49m\u001b[43m=\u001b[49m\u001b[43mgroup\u001b[49m\u001b[43m,\u001b[49m\n\u001b[32m    669\u001b[39m \u001b[43m        \u001b[49m\u001b[43mconsolidated\u001b[49m\u001b[43m=\u001b[49m\u001b[43mconsolidated\u001b[49m\u001b[43m,\u001b[49m\n\u001b[32m    670\u001b[39m \u001b[43m        \u001b[49m\u001b[43mconsolidate_on_close\u001b[49m\u001b[43m=\u001b[49m\u001b[43mconsolidate_on_close\u001b[49m\u001b[43m,\u001b[49m\n\u001b[32m    671\u001b[39m \u001b[43m        \u001b[49m\u001b[43mchunk_store\u001b[49m\u001b[43m=\u001b[49m\u001b[43mchunk_store\u001b[49m\u001b[43m,\u001b[49m\n\u001b[32m    672\u001b[39m \u001b[43m        \u001b[49m\u001b[43mstorage_options\u001b[49m\u001b[43m=\u001b[49m\u001b[43mstorage_options\u001b[49m\u001b[43m,\u001b[49m\n\u001b[32m    673\u001b[39m \u001b[43m        \u001b[49m\u001b[43mzarr_version\u001b[49m\u001b[43m=\u001b[49m\u001b[43mzarr_version\u001b[49m\u001b[43m,\u001b[49m\n\u001b[32m    674\u001b[39m \u001b[43m        \u001b[49m\u001b[43muse_zarr_fill_value_as_mask\u001b[49m\u001b[43m=\u001b[49m\u001b[43muse_zarr_fill_value_as_mask\u001b[49m\u001b[43m,\u001b[49m\n\u001b[32m    675\u001b[39m \u001b[43m        \u001b[49m\u001b[43mzarr_format\u001b[49m\u001b[43m=\u001b[49m\u001b[43mzarr_format\u001b[49m\u001b[43m,\u001b[49m\n\u001b[32m    676\u001b[39m \u001b[43m    \u001b[49m\u001b[43m)\u001b[49m\n\u001b[32m    678\u001b[39m     \u001b[38;5;28;01mreturn\u001b[39;00m \u001b[38;5;28mcls\u001b[39m(\n\u001b[32m    679\u001b[39m         zarr_group,\n\u001b[32m    680\u001b[39m         mode,\n\u001b[32m   (...)\u001b[39m\u001b[32m    689\u001b[39m         cache_members=cache_members,\n\u001b[32m    690\u001b[39m     )\n",
      "\u001b[36mFile \u001b[39m\u001b[32m/srv/conda/envs/notebook/lib/python3.12/site-packages/xarray/backends/zarr.py:1799\u001b[39m, in \u001b[36m_get_open_params\u001b[39m\u001b[34m(store, mode, synchronizer, group, consolidated, consolidate_on_close, chunk_store, storage_options, zarr_version, use_zarr_fill_value_as_mask, zarr_format)\u001b[39m\n\u001b[32m   1796\u001b[39m \u001b[38;5;28;01mexcept\u001b[39;00m (\u001b[38;5;167;01mValueError\u001b[39;00m, \u001b[38;5;167;01mKeyError\u001b[39;00m):\n\u001b[32m   1797\u001b[39m     \u001b[38;5;66;03m# ValueError in zarr-python 3.x, KeyError in 2.x.\u001b[39;00m\n\u001b[32m   1798\u001b[39m     \u001b[38;5;28;01mtry\u001b[39;00m:\n\u001b[32m-> \u001b[39m\u001b[32m1799\u001b[39m         zarr_root_group = \u001b[43mzarr\u001b[49m\u001b[43m.\u001b[49m\u001b[43mopen_group\u001b[49m\u001b[43m(\u001b[49m\u001b[43mstore\u001b[49m\u001b[43m,\u001b[49m\u001b[43m \u001b[49m\u001b[43m*\u001b[49m\u001b[43m*\u001b[49m\u001b[43mopen_kwargs\u001b[49m\u001b[43m)\u001b[49m\n\u001b[32m   1800\u001b[39m         emit_user_level_warning(\n\u001b[32m   1801\u001b[39m             \u001b[33m\"\u001b[39m\u001b[33mFailed to open Zarr store with consolidated metadata, \u001b[39m\u001b[33m\"\u001b[39m\n\u001b[32m   1802\u001b[39m             \u001b[33m\"\u001b[39m\u001b[33mbut successfully read with non-consolidated metadata. \u001b[39m\u001b[33m\"\u001b[39m\n\u001b[32m   (...)\u001b[39m\u001b[32m   1812\u001b[39m             \u001b[38;5;167;01mRuntimeWarning\u001b[39;00m,\n\u001b[32m   1813\u001b[39m         )\n\u001b[32m   1814\u001b[39m     \u001b[38;5;28;01mexcept\u001b[39;00m missing_exc \u001b[38;5;28;01mas\u001b[39;00m err:\n",
      "\u001b[36mFile \u001b[39m\u001b[32m/srv/conda/envs/notebook/lib/python3.12/site-packages/zarr/api/synchronous.py:531\u001b[39m, in \u001b[36mopen_group\u001b[39m\u001b[34m(store, mode, cache_attrs, synchronizer, path, chunk_store, storage_options, zarr_version, zarr_format, meta_array, attributes, use_consolidated)\u001b[39m\n\u001b[32m    454\u001b[39m \u001b[38;5;28;01mdef\u001b[39;00m\u001b[38;5;250m \u001b[39m\u001b[34mopen_group\u001b[39m(\n\u001b[32m    455\u001b[39m     store: StoreLike | \u001b[38;5;28;01mNone\u001b[39;00m = \u001b[38;5;28;01mNone\u001b[39;00m,\n\u001b[32m    456\u001b[39m     *,\n\u001b[32m   (...)\u001b[39m\u001b[32m    467\u001b[39m     use_consolidated: \u001b[38;5;28mbool\u001b[39m | \u001b[38;5;28mstr\u001b[39m | \u001b[38;5;28;01mNone\u001b[39;00m = \u001b[38;5;28;01mNone\u001b[39;00m,\n\u001b[32m    468\u001b[39m ) -> Group:\n\u001b[32m    469\u001b[39m \u001b[38;5;250m    \u001b[39m\u001b[33;03m\"\"\"Open a group using file-mode-like semantics.\u001b[39;00m\n\u001b[32m    470\u001b[39m \n\u001b[32m    471\u001b[39m \u001b[33;03m    Parameters\u001b[39;00m\n\u001b[32m   (...)\u001b[39m\u001b[32m    528\u001b[39m \u001b[33;03m        The new group.\u001b[39;00m\n\u001b[32m    529\u001b[39m \u001b[33;03m    \"\"\"\u001b[39;00m\n\u001b[32m    530\u001b[39m     \u001b[38;5;28;01mreturn\u001b[39;00m Group(\n\u001b[32m--> \u001b[39m\u001b[32m531\u001b[39m         \u001b[43msync\u001b[49m\u001b[43m(\u001b[49m\n\u001b[32m    532\u001b[39m \u001b[43m            \u001b[49m\u001b[43masync_api\u001b[49m\u001b[43m.\u001b[49m\u001b[43mopen_group\u001b[49m\u001b[43m(\u001b[49m\n\u001b[32m    533\u001b[39m \u001b[43m                \u001b[49m\u001b[43mstore\u001b[49m\u001b[43m=\u001b[49m\u001b[43mstore\u001b[49m\u001b[43m,\u001b[49m\n\u001b[32m    534\u001b[39m \u001b[43m                \u001b[49m\u001b[43mmode\u001b[49m\u001b[43m=\u001b[49m\u001b[43mmode\u001b[49m\u001b[43m,\u001b[49m\n\u001b[32m    535\u001b[39m \u001b[43m                \u001b[49m\u001b[43mcache_attrs\u001b[49m\u001b[43m=\u001b[49m\u001b[43mcache_attrs\u001b[49m\u001b[43m,\u001b[49m\n\u001b[32m    536\u001b[39m \u001b[43m                \u001b[49m\u001b[43msynchronizer\u001b[49m\u001b[43m=\u001b[49m\u001b[43msynchronizer\u001b[49m\u001b[43m,\u001b[49m\n\u001b[32m    537\u001b[39m \u001b[43m                \u001b[49m\u001b[43mpath\u001b[49m\u001b[43m=\u001b[49m\u001b[43mpath\u001b[49m\u001b[43m,\u001b[49m\n\u001b[32m    538\u001b[39m \u001b[43m                \u001b[49m\u001b[43mchunk_store\u001b[49m\u001b[43m=\u001b[49m\u001b[43mchunk_store\u001b[49m\u001b[43m,\u001b[49m\n\u001b[32m    539\u001b[39m \u001b[43m                \u001b[49m\u001b[43mstorage_options\u001b[49m\u001b[43m=\u001b[49m\u001b[43mstorage_options\u001b[49m\u001b[43m,\u001b[49m\n\u001b[32m    540\u001b[39m \u001b[43m                \u001b[49m\u001b[43mzarr_version\u001b[49m\u001b[43m=\u001b[49m\u001b[43mzarr_version\u001b[49m\u001b[43m,\u001b[49m\n\u001b[32m    541\u001b[39m \u001b[43m                \u001b[49m\u001b[43mzarr_format\u001b[49m\u001b[43m=\u001b[49m\u001b[43mzarr_format\u001b[49m\u001b[43m,\u001b[49m\n\u001b[32m    542\u001b[39m \u001b[43m                \u001b[49m\u001b[43mmeta_array\u001b[49m\u001b[43m=\u001b[49m\u001b[43mmeta_array\u001b[49m\u001b[43m,\u001b[49m\n\u001b[32m    543\u001b[39m \u001b[43m                \u001b[49m\u001b[43mattributes\u001b[49m\u001b[43m=\u001b[49m\u001b[43mattributes\u001b[49m\u001b[43m,\u001b[49m\n\u001b[32m    544\u001b[39m \u001b[43m                \u001b[49m\u001b[43muse_consolidated\u001b[49m\u001b[43m=\u001b[49m\u001b[43muse_consolidated\u001b[49m\u001b[43m,\u001b[49m\n\u001b[32m    545\u001b[39m \u001b[43m            \u001b[49m\u001b[43m)\u001b[49m\n\u001b[32m    546\u001b[39m \u001b[43m        \u001b[49m\u001b[43m)\u001b[49m\n\u001b[32m    547\u001b[39m     )\n",
      "\u001b[36mFile \u001b[39m\u001b[32m/srv/conda/envs/notebook/lib/python3.12/site-packages/zarr/core/sync.py:163\u001b[39m, in \u001b[36msync\u001b[39m\u001b[34m(coro, loop, timeout)\u001b[39m\n\u001b[32m    160\u001b[39m return_result = \u001b[38;5;28mnext\u001b[39m(\u001b[38;5;28miter\u001b[39m(finished)).result()\n\u001b[32m    162\u001b[39m \u001b[38;5;28;01mif\u001b[39;00m \u001b[38;5;28misinstance\u001b[39m(return_result, \u001b[38;5;167;01mBaseException\u001b[39;00m):\n\u001b[32m--> \u001b[39m\u001b[32m163\u001b[39m     \u001b[38;5;28;01mraise\u001b[39;00m return_result\n\u001b[32m    164\u001b[39m \u001b[38;5;28;01melse\u001b[39;00m:\n\u001b[32m    165\u001b[39m     \u001b[38;5;28;01mreturn\u001b[39;00m return_result\n",
      "\u001b[36mFile \u001b[39m\u001b[32m/srv/conda/envs/notebook/lib/python3.12/site-packages/zarr/core/sync.py:119\u001b[39m, in \u001b[36m_runner\u001b[39m\u001b[34m(coro)\u001b[39m\n\u001b[32m    114\u001b[39m \u001b[38;5;250m\u001b[39m\u001b[33;03m\"\"\"\u001b[39;00m\n\u001b[32m    115\u001b[39m \u001b[33;03mAwait a coroutine and return the result of running it. If awaiting the coroutine raises an\u001b[39;00m\n\u001b[32m    116\u001b[39m \u001b[33;03mexception, the exception will be returned.\u001b[39;00m\n\u001b[32m    117\u001b[39m \u001b[33;03m\"\"\"\u001b[39;00m\n\u001b[32m    118\u001b[39m \u001b[38;5;28;01mtry\u001b[39;00m:\n\u001b[32m--> \u001b[39m\u001b[32m119\u001b[39m     \u001b[38;5;28;01mreturn\u001b[39;00m \u001b[38;5;28;01mawait\u001b[39;00m coro\n\u001b[32m    120\u001b[39m \u001b[38;5;28;01mexcept\u001b[39;00m \u001b[38;5;167;01mException\u001b[39;00m \u001b[38;5;28;01mas\u001b[39;00m ex:\n\u001b[32m    121\u001b[39m     \u001b[38;5;28;01mreturn\u001b[39;00m ex\n",
      "\u001b[36mFile \u001b[39m\u001b[32m/srv/conda/envs/notebook/lib/python3.12/site-packages/zarr/api/asynchronous.py:858\u001b[39m, in \u001b[36mopen_group\u001b[39m\u001b[34m(store, mode, cache_attrs, synchronizer, path, chunk_store, storage_options, zarr_version, zarr_format, meta_array, attributes, use_consolidated)\u001b[39m\n\u001b[32m    851\u001b[39m     _zarr_format = zarr_format \u001b[38;5;129;01mor\u001b[39;00m _default_zarr_format()\n\u001b[32m    852\u001b[39m     \u001b[38;5;28;01mreturn\u001b[39;00m \u001b[38;5;28;01mawait\u001b[39;00m AsyncGroup.from_store(\n\u001b[32m    853\u001b[39m         store_path,\n\u001b[32m    854\u001b[39m         zarr_format=_zarr_format,\n\u001b[32m    855\u001b[39m         overwrite=overwrite,\n\u001b[32m    856\u001b[39m         attributes=attributes,\n\u001b[32m    857\u001b[39m     )\n\u001b[32m--> \u001b[39m\u001b[32m858\u001b[39m \u001b[38;5;28;01mraise\u001b[39;00m GroupNotFoundError(store, store_path.path)\n",
      "\u001b[31mGroupNotFoundError\u001b[39m: No group found in store '/home/jovyan/NEWDEMO/demo-foscat-pangeo-eosc/data/test.zarr' at path ''"
     ]
    }
   ],
   "source": [
    "dtotal=xr.open_zarr('../../data/test.zarr')\n",
    "#dtotal=xr.open_zarr(\"https://data-fair2adapt.ifremer.fr/odysea/odysea.zarr\").pipe(xdggs.decode)\n",
    "dtotal"
   ]
  },
  {
   "cell_type": "code",
   "execution_count": null,
   "id": "429c42d3-a36a-4a71-849c-a12578fda8d4",
   "metadata": {},
   "outputs": [],
   "source": [
    "nside=1024\n",
    "data = dtotal.thetao.compute().values[12,0,:,:]\n",
    "longitude=np.tile(dtotal.longitude.compute().values,data.shape[0])\n",
    "latitude=np.repeat(dtotal.latitude.compute().values,data.shape[1])\n",
    "import foscat.HealSpline as HS\n",
    "\n",
    "level=int(np.log2(nside)) # nside=128\n",
    "\n",
    "sp = HS.heal_spline(level, gamma=1.5)\n",
    "\n",
    "data=data.flatten()\n",
    "longitude=360.0-longitude[~np.isnan(data)]\n",
    "latitude=90.0-latitude[~np.isnan(data)]\n",
    "data=data[~np.isnan(data)]\n",
    "\n",
    "sp.Fit(data, np.deg2rad(latitude),np.deg2rad(longitude),nest=True)\n",
    "cell_ids=np.unique(hp.ang2pix(nside,np.deg2rad(latitude),np.deg2rad(longitude),nest=True))\n",
    "t,p=hp.pix2ang(nside,cell_ids,nest=True)\n",
    "data=sp.Transform(t,p)"
   ]
  },
  {
   "cell_type": "code",
   "execution_count": null,
   "id": "4537bbe2-66f6-403f-a06c-cfcf201a10e2",
   "metadata": {},
   "outputs": [],
   "source": [
    "f=sc.funct()\n",
    "iref=data\n",
    "c=cell_ids\n",
    "l_nside=nside\n",
    "for k in range(2):\n",
    "    iref,c=f.ud_grade_2(iref,cell_ids=c,nside=l_nside)\n",
    "    l_nside//=2\n",
    "iref=f.up_grade(iref,nout=nside,cell_ids=c.cpu().numpy(),\n",
    "                o_cell_ids=cell_ids,nside=l_nside)\n",
    "    \n",
    "ref=f.backend.bk_cast(data.reshape(1,1,data.shape[0]))"
   ]
  },
  {
   "cell_type": "code",
   "execution_count": null,
   "id": "0741c564-f69e-4388-916c-7a796a216bb4",
   "metadata": {},
   "outputs": [],
   "source": [
    "def plot_result(data,cell_ids,nside,hold=None,sub=None,title=None,\n",
    "                unit=None,vmin=None,vmax=None,rot=[3.4,48.5],reso=2,norm=None):\n",
    "    im=np.ones([12*nside**2])*hp.UNSEEN\n",
    "    im[cell_ids]=data\n",
    "    if vmin is None:\n",
    "        vmin=data.min()\n",
    "    if vmax is None:\n",
    "        vmax=data.max()\n",
    "    hp.gnomview(im,cmap='jet',nest=True,rot=rot,\n",
    "                reso=reso,hold=hold,sub=sub,notext=True,title=title,\n",
    "                unit=unit,min=vmin,max=vmax,norm=norm)\n",
    "\n",
    "\n",
    "plot_result(data,cell_ids,nside,hold=False,sub=(1,2,2),vmin=8,vmax=13,title='target')\n",
    "plot_result(iref.cpu().numpy(),cell_ids,nside,hold=False,sub=(1,2,1),vmin=8,vmax=13,title='Input')"
   ]
  },
  {
   "cell_type": "code",
   "execution_count": null,
   "id": "65c42bda-d6d4-4211-ad64-964f1651c544",
   "metadata": {},
   "outputs": [],
   "source": [
    "from foscat.healpix_unet_torch import HealpixUNet,fit\n",
    "\n",
    "model = HealpixUNet(\n",
    "    in_nside=nside,\n",
    "    n_chan_in=1,\n",
    "    chanlist=[8,16,32],\n",
    "    cell_ids=cell_ids,           # finest-resolution nested ids\n",
    "    KERNELSZ=3,\n",
    "    task='regression',         # or 'regression' or 'segmentation'\n",
    "    out_channels=1,              # e.g., #classes\n",
    "    final_activation=None      # defaults: sigmoid if 1 class, else softmax; 'none' for regression\n",
    ")"
   ]
  },
  {
   "cell_type": "code",
   "execution_count": null,
   "id": "12b4f27e-5071-4dee-a21f-1a0fa736a39c",
   "metadata": {},
   "outputs": [],
   "source": [
    "# refine with LBFGS\n",
    "hist  = fit(model, iref[None,None,:],ref, n_epoch=100, view_epoch=10,optimizer='LBFGS')\n",
    "\n",
    "# can also use ADAM optimiser\n",
    "#hist = fit(model, iref[None,None,:],ref, n_epoch=2000, view_epoch=100,batch_size=1, lr=1e-3, optimizer='ADAM')"
   ]
  },
  {
   "cell_type": "code",
   "execution_count": null,
   "id": "dae5247d-415d-4623-8cab-0ee71d8e2c4f",
   "metadata": {},
   "outputs": [],
   "source": [
    "model.plot_kernels(layer=2)"
   ]
  },
  {
   "cell_type": "code",
   "execution_count": null,
   "id": "09a7de29-486d-47a9-bd63-bffec67b881e",
   "metadata": {},
   "outputs": [],
   "source": [
    "plt.plot(hist['loss'],color='r',label='LBFGS')\n",
    "plt.xscale('log')\n",
    "plt.yscale('log')\n",
    "plt.xlabel('Itterations')\n",
    "plt.ylabel('Loss')"
   ]
  },
  {
   "cell_type": "code",
   "execution_count": null,
   "id": "c92de9ba-ce74-4202-8fd7-4ca6595091cf",
   "metadata": {},
   "outputs": [],
   "source": [
    "y_pred = model.predict(iref[None,None,:]).cpu().numpy()[0,0]\n",
    "y_pred.shape"
   ]
  },
  {
   "cell_type": "code",
   "execution_count": null,
   "id": "a355955f-de15-4ea5-aa37-e701de429588",
   "metadata": {},
   "outputs": [],
   "source": [
    "plt.figure(figsize=(15,10))\n",
    "plot_result(ref.cpu().numpy(),cell_ids,nside,vmin=8,vmax=14,hold=False,sub=(2,3,1),title='Target')\n",
    "plot_result(iref.cpu().numpy(),cell_ids,nside,vmin=8,vmax=14,hold=False,sub=(2,3,2),title='U_NET Input')\n",
    "plot_result(y_pred,cell_ids,nside,vmin=8,vmax=14,hold=False,sub=(2,3,3),title='U_NET Output')\n",
    "plot_result((ref-iref).cpu().numpy(),cell_ids,nside,vmin=-1,vmax=1,hold=False,sub=(2,3,5),title='Target - U_NET Input')\n",
    "plot_result(ref.cpu().numpy()-y_pred,cell_ids,nside,vmin=-1,vmax=1,hold=False,sub=(2,3,6),title='Target - U_NET Output')\n",
    "print(f'Initia Loss {np.mean(((ref-iref).cpu().numpy())**2)} Final Loss {np.mean(((ref.cpu().numpy()-y_pred))**2)}')"
   ]
  },
  {
   "cell_type": "code",
   "execution_count": null,
   "id": "131393bd-2a14-473a-83e9-05990afca4c8",
   "metadata": {},
   "outputs": [],
   "source": []
  }
 ],
 "metadata": {
  "kernelspec": {
   "display_name": "Python 3 (ipykernel)",
   "language": "python",
   "name": "python3"
  },
  "language_info": {
   "codemirror_mode": {
    "name": "ipython",
    "version": 3
   },
   "file_extension": ".py",
   "mimetype": "text/x-python",
   "name": "python",
   "nbconvert_exporter": "python",
   "pygments_lexer": "ipython3",
   "version": "3.12.11"
  }
 },
 "nbformat": 4,
 "nbformat_minor": 5
}
